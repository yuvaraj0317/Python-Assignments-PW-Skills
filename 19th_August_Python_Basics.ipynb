{
 "cells": [
  {
   "cell_type": "markdown",
   "id": "95304a35",
   "metadata": {},
   "source": [
    "# TOPIC: Python Basics Variable"
   ]
  },
  {
   "cell_type": "markdown",
   "id": "350b9451",
   "metadata": {},
   "source": [
    "### 1.Swapping the Swap thevalues of these variables without using any temporary variable"
   ]
  },
  {
   "cell_type": "code",
   "execution_count": 5,
   "id": "49723eaa",
   "metadata": {
    "scrolled": true
   },
   "outputs": [],
   "source": [
    "def swap_with_exception_handling(x, y):\n",
    "    try:\n",
    "        # Attempt to swap the values of x and y\n",
    "        x, y = y, x\n",
    "    except Exception as e:\n",
    "        # Handle exceptions (if any)\n",
    "        print(f\"An error occurred: {e}\")\n",
    "    finally:\n",
    "        # Return the swapped values regardless of whether an exception occurred\n",
    "        return x, y\n",
    "\n"
   ]
  },
  {
   "cell_type": "code",
   "execution_count": 6,
   "id": "c9a08198",
   "metadata": {},
   "outputs": [
    {
     "name": "stdout",
     "output_type": "stream",
     "text": [
      "Swapped values:\n",
      "x = 5\n",
      "y = 10\n"
     ]
    }
   ],
   "source": [
    "\n",
    "#Testing the code:\n",
    "x = 10\n",
    "y = 5\n",
    "result_x, result_y = swap_with_exception_handling(x, y)\n",
    "\n",
    "# Now, result_x and result_y contain the swapped values\n",
    "print(\"Swapped values:\")\n",
    "print(f\"x = {result_x}\")\n",
    "print(f\"y = {result_y}\")"
   ]
  },
  {
   "cell_type": "markdown",
   "id": "b3c09076",
   "metadata": {},
   "source": [
    "###  2 .calculates the area of a rectangle"
   ]
  },
  {
   "cell_type": "code",
   "execution_count": 18,
   "id": "134f928a",
   "metadata": {},
   "outputs": [],
   "source": [
    "def calculate_rectangle_area(length, width):\n",
    "    try:\n",
    "        # Ensure length and width are positive numbers\n",
    "        if length <= 0 or width <= 0:\n",
    "            raise ValueError(\"Length and width must be positive numbers.\")\n",
    "        \n",
    "        # Calculate the area of the rectangle\n",
    "        area = length * width\n",
    "\n",
    "        # Return the calculated area\n",
    "        return area\n",
    "    except ValueError as e:\n",
    "        return f\"Error: {e}\""
   ]
  },
  {
   "cell_type": "code",
   "execution_count": 19,
   "id": "e091a2f0",
   "metadata": {},
   "outputs": [
    {
     "name": "stdout",
     "output_type": "stream",
     "text": [
      "Enter the length of the rectangle: 5\n",
      "Enter the width of the rectangle: 11\n",
      "The area of the rectangle is: 55.0\n"
     ]
    }
   ],
   "source": [
    "#Tesitng the code with user input:\n",
    "length = float(input(\"Enter the length of the rectangle: \"))\n",
    "width = float(input(\"Enter the width of the rectangle: \"))\n",
    "\n",
    "result = calculate_rectangle_area(length, width)\n",
    "\n",
    "print(\"The area of the rectangle is:\", result)"
   ]
  },
  {
   "cell_type": "markdown",
   "id": "ce30e9ac",
   "metadata": {},
   "source": [
    " ### 3.program that converts temperatures from Celsius to Fahrenheit"
   ]
  },
  {
   "cell_type": "code",
   "execution_count": 1,
   "id": "b8868dff",
   "metadata": {},
   "outputs": [
    {
     "name": "stdout",
     "output_type": "stream",
     "text": [
      "Enter the Temperature of the Celsius: 2\n",
      "2.0 degrees Celsius is equal to 35.6 degrees Fahrenheit\n"
     ]
    }
   ],
   "source": [
    "#getting User input for the celsius \n",
    "celsius=float(input(\"Enter the Temperature of the Celsius: \"))\n",
    "\n",
    "# Convert Celsius to Fahrenheit\n",
    "Fahrenheit = (celsius * 1.8)+32\n",
    "\n",
    "\n",
    "# Display the result\n",
    "print(f\"{celsius} degrees Celsius is equal to {Fahrenheit} degrees Fahrenheit\")"
   ]
  },
  {
   "cell_type": "markdown",
   "id": "b03de739",
   "metadata": {},
   "source": [
    "# TOPIC: String Based Questions\n"
   ]
  },
  {
   "cell_type": "markdown",
   "id": "5842ecd5",
   "metadata": {},
   "source": [
    "### 1.length of the string\n"
   ]
  },
  {
   "cell_type": "code",
   "execution_count": 16,
   "id": "df518ae8",
   "metadata": {},
   "outputs": [
    {
     "name": "stdout",
     "output_type": "stream",
     "text": [
      "Enter a string: Yuvaraj\n",
      "Length of the String : 7\n"
     ]
    }
   ],
   "source": [
    "# Get user input for a string\n",
    "Name=input(\"Enter a string: \")\n",
    "\n",
    "#calculating the length of the input\n",
    "Len_of_String=len(Name)\n",
    "\n",
    "#print the Result\n",
    "print(\"Length of the String :\",Len_of_String)\n"
   ]
  },
  {
   "cell_type": "markdown",
   "id": "6bba17d1",
   "metadata": {},
   "source": [
    "### 2.counts the number of vowels "
   ]
  },
  {
   "cell_type": "code",
   "execution_count": 18,
   "id": "3fe5bf2e",
   "metadata": {},
   "outputs": [
    {
     "name": "stdout",
     "output_type": "stream",
     "text": [
      "Enter a sentence: hello! my name is yuvaraj I am a PWSkills Data Science Student\n",
      "Number of 'a' vowels: 7\n",
      "Number of 'e' vowels: 5\n",
      "Number of 'i' vowels: 4\n",
      "Number of 'o' vowels: 1\n",
      "Number of 'u' vowels: 2\n",
      "Total number of vowels: 19\n"
     ]
    }
   ],
   "source": [
    "# Get user input for a sentence\n",
    "sentence = input(\"Enter a sentence: \")\n",
    "\n",
    "# Convert the sentence to lowercase to make the counting case-insensitive\n",
    "sentence = sentence.lower()\n",
    "\n",
    "# Initialize counters for each vowel\n",
    "count_a = 0\n",
    "count_e = 0\n",
    "count_i = 0\n",
    "count_o = 0\n",
    "count_u = 0\n",
    "\n",
    "# Iterate through each character in the sentence\n",
    "for char in sentence:\n",
    "    if char == 'a':\n",
    "        count_a += 1\n",
    "    elif char == 'e':\n",
    "        count_e += 1\n",
    "    elif char == 'i':\n",
    "        count_i += 1\n",
    "    elif char == 'o':\n",
    "        count_o += 1\n",
    "    elif char == 'u':\n",
    "        count_u += 1\n",
    "\n",
    "# Calculate the total count of vowels\n",
    "total_vowels = count_a + count_e + count_i + count_o + count_u\n",
    "\n",
    "# Display the counts for each vowel and the total count\n",
    "print(\"Number of 'a' vowels:\", count_a)\n",
    "print(\"Number of 'e' vowels:\", count_e)\n",
    "print(\"Number of 'i' vowels:\", count_i)\n",
    "print(\"Number of 'o' vowels:\", count_o)\n",
    "print(\"Number of 'u' vowels:\", count_u)\n",
    "print(\"Total number of vowels:\", total_vowels)\n"
   ]
  },
  {
   "cell_type": "markdown",
   "id": "193ceda8",
   "metadata": {},
   "source": [
    "### 3.reverse the order of characters using string slicing "
   ]
  },
  {
   "cell_type": "code",
   "execution_count": 2,
   "id": "c27db8d2",
   "metadata": {},
   "outputs": [
    {
     "name": "stdout",
     "output_type": "stream",
     "text": [
      "Enter a string: mango\n",
      "Reversed string: ognam\n"
     ]
    }
   ],
   "source": [
    "# Get user input for a string\n",
    "input_string = input(\"Enter a string: \")\n",
    "\n",
    "# Use string slicing to reverse the string\n",
    "reversed_string = input_string[::-1]\n",
    "\n",
    "# Display the reversed string\n",
    "print(\"Reversed string:\", reversed_string)\n"
   ]
  },
  {
   "cell_type": "markdown",
   "id": "6ef3d07c",
   "metadata": {},
   "source": [
    "### 4.program that takes a string as input and checks if it is a palindrome"
   ]
  },
  {
   "cell_type": "code",
   "execution_count": 1,
   "id": "7115f3d0",
   "metadata": {},
   "outputs": [
    {
     "name": "stdout",
     "output_type": "stream",
     "text": [
      "Enter a string: de\n",
      "de is not a palindrome.\n"
     ]
    }
   ],
   "source": [
    "def is_palindrome():\n",
    "    # Get input from the user\n",
    "    input_string = input(\"Enter a string: \")\n",
    "    \n",
    "    # Remove spaces and convert to lowercase for case-insensitive comparison\n",
    "    s = input_string.replace(\" \", \"\").lower()\n",
    "    \n",
    "    # Check if the string is equal to its reverse\n",
    "    if s == s[::-1]:\n",
    "        print(f\"{input_string} is a palindrome.\")\n",
    "    else:\n",
    "        print(f\"{input_string} is not a palindrome.\")\n",
    "\n",
    "# Call the function to check for palindromes\n",
    "is_palindrome()\n"
   ]
  },
  {
   "cell_type": "markdown",
   "id": "d8e1ff90",
   "metadata": {},
   "source": [
    "### 5.modified string without spaces."
   ]
  },
  {
   "cell_type": "code",
   "execution_count": 7,
   "id": "3f81ffcd",
   "metadata": {},
   "outputs": [],
   "source": [
    "def Space_Remover(x):\n",
    "    if not isinstance(x, str):\n",
    "        print(\"Please enter a String\")\n",
    "        return\n",
    "    try:\n",
    "        y = x.replace(\" \", \"\")\n",
    "        return y\n",
    "    except ValueError as e:\n",
    "        print(f\"An error occurred: {e}\")\n"
   ]
  },
  {
   "cell_type": "code",
   "execution_count": 8,
   "id": "0003daf3",
   "metadata": {},
   "outputs": [
    {
     "data": {
      "text/plain": [
       "'Yuvaraj'"
      ]
     },
     "execution_count": 8,
     "metadata": {},
     "output_type": "execute_result"
    }
   ],
   "source": [
    "Space_Remover(\"Yuva raj\")"
   ]
  },
  {
   "cell_type": "code",
   "execution_count": null,
   "id": "d4faa530",
   "metadata": {},
   "outputs": [],
   "source": []
  }
 ],
 "metadata": {
  "kernelspec": {
   "display_name": "Python 3 (ipykernel)",
   "language": "python",
   "name": "python3"
  },
  "language_info": {
   "codemirror_mode": {
    "name": "ipython",
    "version": 3
   },
   "file_extension": ".py",
   "mimetype": "text/x-python",
   "name": "python",
   "nbconvert_exporter": "python",
   "pygments_lexer": "ipython3",
   "version": "3.11.4"
  }
 },
 "nbformat": 4,
 "nbformat_minor": 5
}
